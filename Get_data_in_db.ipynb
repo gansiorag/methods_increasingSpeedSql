{
 "cells": [
  {
   "cell_type": "code",
   "execution_count": 1,
   "id": "2a89883b-0855-4803-801d-5d97f47fb52f",
   "metadata": {
    "tags": []
   },
   "outputs": [],
   "source": [
    "import pandas as pd\n",
    "import sqlite3"
   ]
  },
  {
   "cell_type": "code",
   "execution_count": 2,
   "id": "13fd9253-3a62-4bd2-a764-4c50c673f30e",
   "metadata": {
    "tags": []
   },
   "outputs": [
    {
     "name": "stderr",
     "output_type": "stream",
     "text": [
      "/tmp/ipykernel_125604/3633903094.py:1: DtypeWarning: Columns (4,6,31,33,61,62,63,76,79,90,92,94,96,114,115,121) have mixed types. Specify dtype option on import or set low_memory=False.\n",
      "  data_one = pd.read_csv('data_sets/globalterrorismdb_0718dist.csv', sep=',', encoding='latin1')\n"
     ]
    }
   ],
   "source": [
    "data_one = pd.read_csv('data_sets/globalterrorismdb_0718dist.csv', sep=',', encoding='latin1')"
   ]
  },
  {
   "cell_type": "code",
   "execution_count": 3,
   "id": "a571a47a-d998-47b3-baff-7f8156e2177f",
   "metadata": {
    "tags": []
   },
   "outputs": [
    {
     "data": {
      "text/plain": [
       "<bound method DataFrame.info of              eventid  iyear  imonth  iday approxdate  extended resolution  \\\n",
       "0       197000000001   1970       7     2        NaN         0        NaN   \n",
       "1       197000000002   1970       0     0        NaN         0        NaN   \n",
       "2       197001000001   1970       1     0        NaN         0        NaN   \n",
       "3       197001000002   1970       1     0        NaN         0        NaN   \n",
       "4       197001000003   1970       1     0        NaN         0        NaN   \n",
       "...              ...    ...     ...   ...        ...       ...        ...   \n",
       "181686  201712310022   2017      12    31        NaN         0        NaN   \n",
       "181687  201712310029   2017      12    31        NaN         0        NaN   \n",
       "181688  201712310030   2017      12    31        NaN         0        NaN   \n",
       "181689  201712310031   2017      12    31        NaN         0        NaN   \n",
       "181690  201712310032   2017      12    31        NaN         0        NaN   \n",
       "\n",
       "        country         country_txt  region  ... addnotes  \\\n",
       "0            58  Dominican Republic       2  ...      NaN   \n",
       "1           130              Mexico       1  ...      NaN   \n",
       "2           160         Philippines       5  ...      NaN   \n",
       "3            78              Greece       8  ...      NaN   \n",
       "4           101               Japan       4  ...      NaN   \n",
       "...         ...                 ...     ...  ...      ...   \n",
       "181686      182             Somalia      11  ...      NaN   \n",
       "181687      200               Syria      10  ...      NaN   \n",
       "181688      160         Philippines       5  ...      NaN   \n",
       "181689       92               India       6  ...      NaN   \n",
       "181690      160         Philippines       5  ...      NaN   \n",
       "\n",
       "                                                   scite1  \\\n",
       "0                                                     NaN   \n",
       "1                                                     NaN   \n",
       "2                                                     NaN   \n",
       "3                                                     NaN   \n",
       "4                                                     NaN   \n",
       "...                                                   ...   \n",
       "181686  \"Somalia: Al-Shabaab Militants Attack Army Che...   \n",
       "181687  \"Putin's 'victory' in Syria has turned into a ...   \n",
       "181688  \"Maguindanao clashes trap tribe members,\" Phil...   \n",
       "181689  \"Trader escapes grenade attack in Imphal,\" Bus...   \n",
       "181690  \"Security tightened in Cotabato following IED ...   \n",
       "\n",
       "                                                   scite2  \\\n",
       "0                                                     NaN   \n",
       "1                                                     NaN   \n",
       "2                                                     NaN   \n",
       "3                                                     NaN   \n",
       "4                                                     NaN   \n",
       "...                                                   ...   \n",
       "181686  \"Highlights: Somalia Daily Media Highlights 2 ...   \n",
       "181687  \"Two Russian soldiers killed at Hmeymim base i...   \n",
       "181688                                                NaN   \n",
       "181689                                                NaN   \n",
       "181690  \"Security tightened in Cotabato City,\" Manila ...   \n",
       "\n",
       "                                                   scite3  \\\n",
       "0                                                     NaN   \n",
       "1                                                     NaN   \n",
       "2                                                     NaN   \n",
       "3                                                     NaN   \n",
       "4                                                     NaN   \n",
       "...                                                   ...   \n",
       "181686  \"Highlights: Somalia Daily Media Highlights 1 ...   \n",
       "181687  \"Two Russian servicemen killed in Syria mortar...   \n",
       "181688                                                NaN   \n",
       "181689                                                NaN   \n",
       "181690                                                NaN   \n",
       "\n",
       "                        dbsource  INT_LOG  INT_IDEO INT_MISC INT_ANY  related  \n",
       "0                           PGIS        0         0        0       0      NaN  \n",
       "1                           PGIS        0         1        1       1      NaN  \n",
       "2                           PGIS       -9        -9        1       1      NaN  \n",
       "3                           PGIS       -9        -9        1       1      NaN  \n",
       "4                           PGIS       -9        -9        1       1      NaN  \n",
       "...                          ...      ...       ...      ...     ...      ...  \n",
       "181686  START Primary Collection        0         0        0       0      NaN  \n",
       "181687  START Primary Collection       -9        -9        1       1      NaN  \n",
       "181688  START Primary Collection        0         0        0       0      NaN  \n",
       "181689  START Primary Collection       -9        -9        0      -9      NaN  \n",
       "181690  START Primary Collection       -9        -9        0      -9      NaN  \n",
       "\n",
       "[181691 rows x 135 columns]>"
      ]
     },
     "execution_count": 3,
     "metadata": {},
     "output_type": "execute_result"
    }
   ],
   "source": [
    "data_one.info"
   ]
  },
  {
   "cell_type": "code",
   "execution_count": 4,
   "id": "289dccca-e006-4d6a-b9b7-5db6b79c92b6",
   "metadata": {
    "tags": []
   },
   "outputs": [
    {
     "data": {
      "text/html": [
       "<div>\n",
       "<style scoped>\n",
       "    .dataframe tbody tr th:only-of-type {\n",
       "        vertical-align: middle;\n",
       "    }\n",
       "\n",
       "    .dataframe tbody tr th {\n",
       "        vertical-align: top;\n",
       "    }\n",
       "\n",
       "    .dataframe thead th {\n",
       "        text-align: right;\n",
       "    }\n",
       "</style>\n",
       "<table border=\"1\" class=\"dataframe\">\n",
       "  <thead>\n",
       "    <tr style=\"text-align: right;\">\n",
       "      <th></th>\n",
       "      <th>eventid</th>\n",
       "      <th>iyear</th>\n",
       "      <th>imonth</th>\n",
       "      <th>iday</th>\n",
       "      <th>approxdate</th>\n",
       "      <th>extended</th>\n",
       "      <th>resolution</th>\n",
       "      <th>country</th>\n",
       "      <th>country_txt</th>\n",
       "      <th>region</th>\n",
       "      <th>...</th>\n",
       "      <th>addnotes</th>\n",
       "      <th>scite1</th>\n",
       "      <th>scite2</th>\n",
       "      <th>scite3</th>\n",
       "      <th>dbsource</th>\n",
       "      <th>INT_LOG</th>\n",
       "      <th>INT_IDEO</th>\n",
       "      <th>INT_MISC</th>\n",
       "      <th>INT_ANY</th>\n",
       "      <th>related</th>\n",
       "    </tr>\n",
       "  </thead>\n",
       "  <tbody>\n",
       "    <tr>\n",
       "      <th>0</th>\n",
       "      <td>197000000001</td>\n",
       "      <td>1970</td>\n",
       "      <td>7</td>\n",
       "      <td>2</td>\n",
       "      <td>NaN</td>\n",
       "      <td>0</td>\n",
       "      <td>NaN</td>\n",
       "      <td>58</td>\n",
       "      <td>Dominican Republic</td>\n",
       "      <td>2</td>\n",
       "      <td>...</td>\n",
       "      <td>NaN</td>\n",
       "      <td>NaN</td>\n",
       "      <td>NaN</td>\n",
       "      <td>NaN</td>\n",
       "      <td>PGIS</td>\n",
       "      <td>0</td>\n",
       "      <td>0</td>\n",
       "      <td>0</td>\n",
       "      <td>0</td>\n",
       "      <td>NaN</td>\n",
       "    </tr>\n",
       "    <tr>\n",
       "      <th>1</th>\n",
       "      <td>197000000002</td>\n",
       "      <td>1970</td>\n",
       "      <td>0</td>\n",
       "      <td>0</td>\n",
       "      <td>NaN</td>\n",
       "      <td>0</td>\n",
       "      <td>NaN</td>\n",
       "      <td>130</td>\n",
       "      <td>Mexico</td>\n",
       "      <td>1</td>\n",
       "      <td>...</td>\n",
       "      <td>NaN</td>\n",
       "      <td>NaN</td>\n",
       "      <td>NaN</td>\n",
       "      <td>NaN</td>\n",
       "      <td>PGIS</td>\n",
       "      <td>0</td>\n",
       "      <td>1</td>\n",
       "      <td>1</td>\n",
       "      <td>1</td>\n",
       "      <td>NaN</td>\n",
       "    </tr>\n",
       "    <tr>\n",
       "      <th>2</th>\n",
       "      <td>197001000001</td>\n",
       "      <td>1970</td>\n",
       "      <td>1</td>\n",
       "      <td>0</td>\n",
       "      <td>NaN</td>\n",
       "      <td>0</td>\n",
       "      <td>NaN</td>\n",
       "      <td>160</td>\n",
       "      <td>Philippines</td>\n",
       "      <td>5</td>\n",
       "      <td>...</td>\n",
       "      <td>NaN</td>\n",
       "      <td>NaN</td>\n",
       "      <td>NaN</td>\n",
       "      <td>NaN</td>\n",
       "      <td>PGIS</td>\n",
       "      <td>-9</td>\n",
       "      <td>-9</td>\n",
       "      <td>1</td>\n",
       "      <td>1</td>\n",
       "      <td>NaN</td>\n",
       "    </tr>\n",
       "    <tr>\n",
       "      <th>3</th>\n",
       "      <td>197001000002</td>\n",
       "      <td>1970</td>\n",
       "      <td>1</td>\n",
       "      <td>0</td>\n",
       "      <td>NaN</td>\n",
       "      <td>0</td>\n",
       "      <td>NaN</td>\n",
       "      <td>78</td>\n",
       "      <td>Greece</td>\n",
       "      <td>8</td>\n",
       "      <td>...</td>\n",
       "      <td>NaN</td>\n",
       "      <td>NaN</td>\n",
       "      <td>NaN</td>\n",
       "      <td>NaN</td>\n",
       "      <td>PGIS</td>\n",
       "      <td>-9</td>\n",
       "      <td>-9</td>\n",
       "      <td>1</td>\n",
       "      <td>1</td>\n",
       "      <td>NaN</td>\n",
       "    </tr>\n",
       "    <tr>\n",
       "      <th>4</th>\n",
       "      <td>197001000003</td>\n",
       "      <td>1970</td>\n",
       "      <td>1</td>\n",
       "      <td>0</td>\n",
       "      <td>NaN</td>\n",
       "      <td>0</td>\n",
       "      <td>NaN</td>\n",
       "      <td>101</td>\n",
       "      <td>Japan</td>\n",
       "      <td>4</td>\n",
       "      <td>...</td>\n",
       "      <td>NaN</td>\n",
       "      <td>NaN</td>\n",
       "      <td>NaN</td>\n",
       "      <td>NaN</td>\n",
       "      <td>PGIS</td>\n",
       "      <td>-9</td>\n",
       "      <td>-9</td>\n",
       "      <td>1</td>\n",
       "      <td>1</td>\n",
       "      <td>NaN</td>\n",
       "    </tr>\n",
       "  </tbody>\n",
       "</table>\n",
       "<p>5 rows × 135 columns</p>\n",
       "</div>"
      ],
      "text/plain": [
       "        eventid  iyear  imonth  iday approxdate  extended resolution  country  \\\n",
       "0  197000000001   1970       7     2        NaN         0        NaN       58   \n",
       "1  197000000002   1970       0     0        NaN         0        NaN      130   \n",
       "2  197001000001   1970       1     0        NaN         0        NaN      160   \n",
       "3  197001000002   1970       1     0        NaN         0        NaN       78   \n",
       "4  197001000003   1970       1     0        NaN         0        NaN      101   \n",
       "\n",
       "          country_txt  region  ... addnotes scite1 scite2  scite3  dbsource  \\\n",
       "0  Dominican Republic       2  ...      NaN    NaN    NaN     NaN      PGIS   \n",
       "1              Mexico       1  ...      NaN    NaN    NaN     NaN      PGIS   \n",
       "2         Philippines       5  ...      NaN    NaN    NaN     NaN      PGIS   \n",
       "3              Greece       8  ...      NaN    NaN    NaN     NaN      PGIS   \n",
       "4               Japan       4  ...      NaN    NaN    NaN     NaN      PGIS   \n",
       "\n",
       "   INT_LOG  INT_IDEO INT_MISC INT_ANY  related  \n",
       "0        0         0        0       0      NaN  \n",
       "1        0         1        1       1      NaN  \n",
       "2       -9        -9        1       1      NaN  \n",
       "3       -9        -9        1       1      NaN  \n",
       "4       -9        -9        1       1      NaN  \n",
       "\n",
       "[5 rows x 135 columns]"
      ]
     },
     "execution_count": 4,
     "metadata": {},
     "output_type": "execute_result"
    }
   ],
   "source": [
    "data_one.head()"
   ]
  },
  {
   "cell_type": "code",
   "execution_count": 5,
   "id": "8a6dd90b-f06e-466d-806f-d8ed48ffd91b",
   "metadata": {
    "tags": []
   },
   "outputs": [
    {
     "name": "stdout",
     "output_type": "stream",
     "text": [
      "eventid\n",
      "iyear\n",
      "imonth\n",
      "iday\n",
      "approxdate\n",
      "extended\n",
      "resolution\n",
      "country\n",
      "country_txt\n",
      "region\n",
      "region_txt\n",
      "provstate\n",
      "city\n",
      "latitude\n",
      "longitude\n",
      "specificity\n",
      "vicinity\n",
      "location\n",
      "summary\n",
      "crit1\n",
      "crit2\n",
      "crit3\n",
      "doubtterr\n",
      "alternative\n",
      "alternative_txt\n",
      "multiple\n",
      "success\n",
      "suicide\n",
      "attacktype1\n",
      "attacktype1_txt\n",
      "attacktype2\n",
      "attacktype2_txt\n",
      "attacktype3\n",
      "attacktype3_txt\n",
      "targtype1\n",
      "targtype1_txt\n",
      "targsubtype1\n",
      "targsubtype1_txt\n",
      "corp1\n",
      "target1\n",
      "natlty1\n",
      "natlty1_txt\n",
      "targtype2\n",
      "targtype2_txt\n",
      "targsubtype2\n",
      "targsubtype2_txt\n",
      "corp2\n",
      "target2\n",
      "natlty2\n",
      "natlty2_txt\n",
      "targtype3\n",
      "targtype3_txt\n",
      "targsubtype3\n",
      "targsubtype3_txt\n",
      "corp3\n",
      "target3\n",
      "natlty3\n",
      "natlty3_txt\n",
      "gname\n",
      "gsubname\n",
      "gname2\n",
      "gsubname2\n",
      "gname3\n",
      "gsubname3\n",
      "motive\n",
      "guncertain1\n",
      "guncertain2\n",
      "guncertain3\n",
      "individual\n",
      "nperps\n",
      "nperpcap\n",
      "claimed\n",
      "claimmode\n",
      "claimmode_txt\n",
      "claim2\n",
      "claimmode2\n",
      "claimmode2_txt\n",
      "claim3\n",
      "claimmode3\n",
      "claimmode3_txt\n",
      "compclaim\n",
      "weaptype1\n",
      "weaptype1_txt\n",
      "weapsubtype1\n",
      "weapsubtype1_txt\n",
      "weaptype2\n",
      "weaptype2_txt\n",
      "weapsubtype2\n",
      "weapsubtype2_txt\n",
      "weaptype3\n",
      "weaptype3_txt\n",
      "weapsubtype3\n",
      "weapsubtype3_txt\n",
      "weaptype4\n",
      "weaptype4_txt\n",
      "weapsubtype4\n",
      "weapsubtype4_txt\n",
      "weapdetail\n",
      "nkill\n",
      "nkillus\n",
      "nkillter\n",
      "nwound\n",
      "nwoundus\n",
      "nwoundte\n",
      "property\n",
      "propextent\n",
      "propextent_txt\n",
      "propvalue\n",
      "propcomment\n",
      "ishostkid\n",
      "nhostkid\n",
      "nhostkidus\n",
      "nhours\n",
      "ndays\n",
      "divert\n",
      "kidhijcountry\n",
      "ransom\n",
      "ransomamt\n",
      "ransomamtus\n",
      "ransompaid\n",
      "ransompaidus\n",
      "ransomnote\n",
      "hostkidoutcome\n",
      "hostkidoutcome_txt\n",
      "nreleased\n",
      "addnotes\n",
      "scite1\n",
      "scite2\n",
      "scite3\n",
      "dbsource\n",
      "INT_LOG\n",
      "INT_IDEO\n",
      "INT_MISC\n",
      "INT_ANY\n",
      "related\n"
     ]
    }
   ],
   "source": [
    "for col in data_one.columns:\n",
    "    print(col)"
   ]
  },
  {
   "cell_type": "code",
   "execution_count": 6,
   "id": "eca1cfa1-e3cf-4434-b76a-7962cc4eeebd",
   "metadata": {
    "tags": []
   },
   "outputs": [
    {
     "name": "stdout",
     "output_type": "stream",
     "text": [
      "['eventid', 'iyear', 'imonth', 'iday', 'approxdate', 'extended', 'resolution', 'country', 'country_txt', 'region', 'region_txt', 'provstate', 'city', 'latitude', 'longitude', 'specificity', 'vicinity', 'location', 'summary', 'crit1', 'crit2', 'crit3', 'doubtterr', 'alternative', 'alternative_txt', 'multiple', 'success', 'suicide', 'attacktype1', 'attacktype1_txt', 'attacktype2', 'attacktype2_txt', 'attacktype3', 'attacktype3_txt', 'targtype1', 'targtype1_txt', 'targsubtype1', 'targsubtype1_txt', 'corp1', 'target1', 'natlty1', 'natlty1_txt', 'targtype2', 'targtype2_txt', 'targsubtype2', 'targsubtype2_txt', 'corp2', 'target2', 'natlty2', 'natlty2_txt', 'targtype3', 'targtype3_txt', 'targsubtype3', 'targsubtype3_txt', 'corp3', 'target3', 'natlty3', 'natlty3_txt', 'gname', 'gsubname', 'gname2', 'gsubname2', 'gname3', 'gsubname3', 'motive', 'guncertain1', 'guncertain2', 'guncertain3', 'individual', 'nperps', 'nperpcap', 'claimed', 'claimmode', 'claimmode_txt', 'claim2', 'claimmode2', 'claimmode2_txt', 'claim3', 'claimmode3', 'claimmode3_txt', 'compclaim', 'weaptype1', 'weaptype1_txt', 'weapsubtype1', 'weapsubtype1_txt', 'weaptype2', 'weaptype2_txt', 'weapsubtype2', 'weapsubtype2_txt', 'weaptype3', 'weaptype3_txt', 'weapsubtype3', 'weapsubtype3_txt', 'weaptype4', 'weaptype4_txt', 'weapsubtype4', 'weapsubtype4_txt', 'weapdetail', 'nkill', 'nkillus', 'nkillter', 'nwound', 'nwoundus', 'nwoundte', 'property', 'propextent', 'propextent_txt', 'propvalue', 'propcomment', 'ishostkid', 'nhostkid', 'nhostkidus', 'nhours', 'ndays', 'divert', 'kidhijcountry', 'ransom', 'ransomamt', 'ransomamtus', 'ransompaid', 'ransompaidus', 'ransomnote', 'hostkidoutcome', 'hostkidoutcome_txt', 'nreleased', 'addnotes', 'scite1', 'scite2', 'scite3', 'dbsource', 'INT_LOG', 'INT_IDEO', 'INT_MISC', 'INT_ANY', 'related']\n"
     ]
    }
   ],
   "source": [
    "print(list(data_one))"
   ]
  },
  {
   "cell_type": "code",
   "execution_count": 7,
   "id": "5d0a9268-10bf-4e02-9441-4cc5478fcf5a",
   "metadata": {
    "tags": []
   },
   "outputs": [
    {
     "name": "stdout",
     "output_type": "stream",
     "text": [
      "['eventid', 'iyear', 'imonth', 'iday', 'approxdate', 'extended', 'resolution', 'country', 'country_txt', 'region', 'region_txt', 'provstate', 'city', 'latitude', 'longitude', 'specificity', 'vicinity', 'location', 'summary', 'crit1', 'crit2', 'crit3', 'doubtterr', 'alternative', 'alternative_txt', 'multiple', 'success', 'suicide', 'attacktype1', 'attacktype1_txt', 'attacktype2', 'attacktype2_txt', 'attacktype3', 'attacktype3_txt', 'targtype1', 'targtype1_txt', 'targsubtype1', 'targsubtype1_txt', 'corp1', 'target1', 'natlty1', 'natlty1_txt', 'targtype2', 'targtype2_txt', 'targsubtype2', 'targsubtype2_txt', 'corp2', 'target2', 'natlty2', 'natlty2_txt', 'targtype3', 'targtype3_txt', 'targsubtype3', 'targsubtype3_txt', 'corp3', 'target3', 'natlty3', 'natlty3_txt', 'gname', 'gsubname', 'gname2', 'gsubname2', 'gname3', 'gsubname3', 'motive', 'guncertain1', 'guncertain2', 'guncertain3', 'individual', 'nperps', 'nperpcap', 'claimed', 'claimmode', 'claimmode_txt', 'claim2', 'claimmode2', 'claimmode2_txt', 'claim3', 'claimmode3', 'claimmode3_txt', 'compclaim', 'weaptype1', 'weaptype1_txt', 'weapsubtype1', 'weapsubtype1_txt', 'weaptype2', 'weaptype2_txt', 'weapsubtype2', 'weapsubtype2_txt', 'weaptype3', 'weaptype3_txt', 'weapsubtype3', 'weapsubtype3_txt', 'weaptype4', 'weaptype4_txt', 'weapsubtype4', 'weapsubtype4_txt', 'weapdetail', 'nkill', 'nkillus', 'nkillter', 'nwound', 'nwoundus', 'nwoundte', 'property', 'propextent', 'propextent_txt', 'propvalue', 'propcomment', 'ishostkid', 'nhostkid', 'nhostkidus', 'nhours', 'ndays', 'divert', 'kidhijcountry', 'ransom', 'ransomamt', 'ransomamtus', 'ransompaid', 'ransompaidus', 'ransomnote', 'hostkidoutcome', 'hostkidoutcome_txt', 'nreleased', 'addnotes', 'scite1', 'scite2', 'scite3', 'dbsource', 'INT_LOG', 'INT_IDEO', 'INT_MISC', 'INT_ANY', 'related']\n"
     ]
    }
   ],
   "source": [
    "print(data_one.columns.tolist())"
   ]
  },
  {
   "cell_type": "code",
   "execution_count": 8,
   "id": "95465fb9-ed2c-484b-bf85-b38582ebaeb6",
   "metadata": {
    "tags": []
   },
   "outputs": [
    {
     "name": "stdout",
     "output_type": "stream",
     "text": [
      "eventid        int64\n",
      "iyear          int64\n",
      "imonth         int64\n",
      "iday           int64\n",
      "approxdate    object\n",
      "               ...  \n",
      "INT_LOG        int64\n",
      "INT_IDEO       int64\n",
      "INT_MISC       int64\n",
      "INT_ANY        int64\n",
      "related       object\n",
      "Length: 135, dtype: object\n"
     ]
    }
   ],
   "source": [
    "print(data_one.dtypes)"
   ]
  },
  {
   "cell_type": "code",
   "execution_count": 9,
   "id": "5f07cce7-6da6-4121-9c30-61b41e8e243c",
   "metadata": {
    "tags": []
   },
   "outputs": [
    {
     "name": "stdout",
     "output_type": "stream",
     "text": [
      "eventid >>> int64\n",
      "iyear >>> int64\n",
      "imonth >>> int64\n",
      "iday >>> int64\n",
      "approxdate >>> object\n",
      "extended >>> int64\n",
      "resolution >>> object\n",
      "country >>> int64\n",
      "country_txt >>> object\n",
      "region >>> int64\n",
      "region_txt >>> object\n",
      "provstate >>> object\n",
      "city >>> object\n",
      "latitude >>> float64\n",
      "longitude >>> float64\n",
      "specificity >>> float64\n",
      "vicinity >>> int64\n",
      "location >>> object\n",
      "summary >>> object\n",
      "crit1 >>> int64\n",
      "crit2 >>> int64\n",
      "crit3 >>> int64\n",
      "doubtterr >>> float64\n",
      "alternative >>> float64\n",
      "alternative_txt >>> object\n",
      "multiple >>> float64\n",
      "success >>> int64\n",
      "suicide >>> int64\n",
      "attacktype1 >>> int64\n",
      "attacktype1_txt >>> object\n",
      "attacktype2 >>> float64\n",
      "attacktype2_txt >>> object\n",
      "attacktype3 >>> float64\n",
      "attacktype3_txt >>> object\n",
      "targtype1 >>> int64\n",
      "targtype1_txt >>> object\n",
      "targsubtype1 >>> float64\n",
      "targsubtype1_txt >>> object\n",
      "corp1 >>> object\n",
      "target1 >>> object\n",
      "natlty1 >>> float64\n",
      "natlty1_txt >>> object\n",
      "targtype2 >>> float64\n",
      "targtype2_txt >>> object\n",
      "targsubtype2 >>> float64\n",
      "targsubtype2_txt >>> object\n",
      "corp2 >>> object\n",
      "target2 >>> object\n",
      "natlty2 >>> float64\n",
      "natlty2_txt >>> object\n",
      "targtype3 >>> float64\n",
      "targtype3_txt >>> object\n",
      "targsubtype3 >>> float64\n",
      "targsubtype3_txt >>> object\n",
      "corp3 >>> object\n",
      "target3 >>> object\n",
      "natlty3 >>> float64\n",
      "natlty3_txt >>> object\n",
      "gname >>> object\n",
      "gsubname >>> object\n",
      "gname2 >>> object\n",
      "gsubname2 >>> object\n",
      "gname3 >>> object\n",
      "gsubname3 >>> object\n",
      "motive >>> object\n",
      "guncertain1 >>> float64\n",
      "guncertain2 >>> float64\n",
      "guncertain3 >>> float64\n",
      "individual >>> int64\n",
      "nperps >>> float64\n",
      "nperpcap >>> float64\n",
      "claimed >>> float64\n",
      "claimmode >>> float64\n",
      "claimmode_txt >>> object\n",
      "claim2 >>> float64\n",
      "claimmode2 >>> float64\n",
      "claimmode2_txt >>> object\n",
      "claim3 >>> float64\n",
      "claimmode3 >>> float64\n",
      "claimmode3_txt >>> object\n",
      "compclaim >>> float64\n",
      "weaptype1 >>> int64\n",
      "weaptype1_txt >>> object\n",
      "weapsubtype1 >>> float64\n",
      "weapsubtype1_txt >>> object\n",
      "weaptype2 >>> float64\n",
      "weaptype2_txt >>> object\n",
      "weapsubtype2 >>> float64\n",
      "weapsubtype2_txt >>> object\n",
      "weaptype3 >>> float64\n",
      "weaptype3_txt >>> object\n",
      "weapsubtype3 >>> float64\n",
      "weapsubtype3_txt >>> object\n",
      "weaptype4 >>> float64\n",
      "weaptype4_txt >>> object\n",
      "weapsubtype4 >>> float64\n",
      "weapsubtype4_txt >>> object\n",
      "weapdetail >>> object\n",
      "nkill >>> float64\n",
      "nkillus >>> float64\n",
      "nkillter >>> float64\n",
      "nwound >>> float64\n",
      "nwoundus >>> float64\n",
      "nwoundte >>> float64\n",
      "property >>> int64\n",
      "propextent >>> float64\n",
      "propextent_txt >>> object\n",
      "propvalue >>> float64\n",
      "propcomment >>> object\n",
      "ishostkid >>> float64\n",
      "nhostkid >>> float64\n",
      "nhostkidus >>> float64\n",
      "nhours >>> float64\n",
      "ndays >>> float64\n",
      "divert >>> object\n",
      "kidhijcountry >>> object\n",
      "ransom >>> float64\n",
      "ransomamt >>> float64\n",
      "ransomamtus >>> float64\n",
      "ransompaid >>> float64\n",
      "ransompaidus >>> float64\n",
      "ransomnote >>> object\n",
      "hostkidoutcome >>> float64\n",
      "hostkidoutcome_txt >>> object\n",
      "nreleased >>> float64\n",
      "addnotes >>> object\n",
      "scite1 >>> object\n",
      "scite2 >>> object\n",
      "scite3 >>> object\n",
      "dbsource >>> object\n",
      "INT_LOG >>> int64\n",
      "INT_IDEO >>> int64\n",
      "INT_MISC >>> int64\n",
      "INT_ANY >>> int64\n",
      "related >>> object\n"
     ]
    }
   ],
   "source": [
    "for k , t in zip(data_one.columns, data_one.dtypes):\n",
    "    print(k,t, sep=\" >>> \")"
   ]
  },
  {
   "cell_type": "code",
   "execution_count": 10,
   "id": "37fb2d45-30e4-4889-95f6-f955b4e7f874",
   "metadata": {
    "tags": []
   },
   "outputs": [],
   "source": [
    "from collections import Counter"
   ]
  },
  {
   "cell_type": "code",
   "execution_count": 11,
   "id": "4fc72550-8aff-4307-aa78-9646df2acc3b",
   "metadata": {
    "tags": []
   },
   "outputs": [
    {
     "name": "stdout",
     "output_type": "stream",
     "text": [
      "181691\n",
      "205\n"
     ]
    }
   ],
   "source": [
    "name_country = data_one[['country', 'country_txt']]\n",
    "print(len(name_country))\n",
    "l = Counter()\n",
    "for k, d in zip(data_one['country'], data_one['country_txt']):\n",
    "    l[k] = d\n",
    "#un = set(l)\n",
    "print(len(l))\n",
    "# print(l[10])\n",
    "# print(type(l[10]))"
   ]
  },
  {
   "cell_type": "code",
   "execution_count": 11,
   "id": "796e4f20-3691-4c38-afbb-910d4c24a0df",
   "metadata": {
    "tags": []
   },
   "outputs": [],
   "source": [
    "con = sqlite3.connect('exampl_data_base.db')\n",
    "cur = con.cursor()"
   ]
  },
  {
   "cell_type": "code",
   "execution_count": 48,
   "id": "de93a1d9-af7b-4989-b01e-c7b42843ca35",
   "metadata": {
    "tags": []
   },
   "outputs": [],
   "source": []
  },
  {
   "cell_type": "code",
   "execution_count": 16,
   "id": "ef00c82f-89d9-4070-903d-86932caa8551",
   "metadata": {
    "tags": []
   },
   "outputs": [],
   "source": [
    "for k in l:\n",
    "    sql = f\"\"\"INSERT INTO country (name_country,cod_country) VALUES (\"{k}\",\"{l[k]}\");\"\"\"\n",
    "    #print(sql)\n",
    "    cur.execute(sql)\n",
    "con.commit()"
   ]
  },
  {
   "cell_type": "code",
   "execution_count": 13,
   "id": "f370590a-8a87-4ec2-aefa-49bd342d5293",
   "metadata": {
    "tags": []
   },
   "outputs": [],
   "source": [
    "data_one = data_one.drop(columns=['country_txt'])"
   ]
  },
  {
   "cell_type": "code",
   "execution_count": 14,
   "id": "f6117f1f-5aeb-49e1-85c6-2d9168a4ab2e",
   "metadata": {
    "tags": []
   },
   "outputs": [],
   "source": [
    "data_one = data_one.rename(columns={'country':'cod_country'})"
   ]
  },
  {
   "cell_type": "code",
   "execution_count": 15,
   "id": "1efb0d2f-b309-484a-8e7b-d6f30387ddf1",
   "metadata": {
    "tags": []
   },
   "outputs": [
    {
     "name": "stdout",
     "output_type": "stream",
     "text": [
      "['eventid', 'iyear', 'imonth', 'iday', 'approxdate', 'extended', 'resolution', 'cod_country', 'region', 'region_txt', 'provstate', 'city', 'latitude', 'longitude', 'specificity', 'vicinity', 'location', 'summary', 'crit1', 'crit2', 'crit3', 'doubtterr', 'alternative', 'alternative_txt', 'multiple', 'success', 'suicide', 'attacktype1', 'attacktype1_txt', 'attacktype2', 'attacktype2_txt', 'attacktype3', 'attacktype3_txt', 'targtype1', 'targtype1_txt', 'targsubtype1', 'targsubtype1_txt', 'corp1', 'target1', 'natlty1', 'natlty1_txt', 'targtype2', 'targtype2_txt', 'targsubtype2', 'targsubtype2_txt', 'corp2', 'target2', 'natlty2', 'natlty2_txt', 'targtype3', 'targtype3_txt', 'targsubtype3', 'targsubtype3_txt', 'corp3', 'target3', 'natlty3', 'natlty3_txt', 'gname', 'gsubname', 'gname2', 'gsubname2', 'gname3', 'gsubname3', 'motive', 'guncertain1', 'guncertain2', 'guncertain3', 'individual', 'nperps', 'nperpcap', 'claimed', 'claimmode', 'claimmode_txt', 'claim2', 'claimmode2', 'claimmode2_txt', 'claim3', 'claimmode3', 'claimmode3_txt', 'compclaim', 'weaptype1', 'weaptype1_txt', 'weapsubtype1', 'weapsubtype1_txt', 'weaptype2', 'weaptype2_txt', 'weapsubtype2', 'weapsubtype2_txt', 'weaptype3', 'weaptype3_txt', 'weapsubtype3', 'weapsubtype3_txt', 'weaptype4', 'weaptype4_txt', 'weapsubtype4', 'weapsubtype4_txt', 'weapdetail', 'nkill', 'nkillus', 'nkillter', 'nwound', 'nwoundus', 'nwoundte', 'property', 'propextent', 'propextent_txt', 'propvalue', 'propcomment', 'ishostkid', 'nhostkid', 'nhostkidus', 'nhours', 'ndays', 'divert', 'kidhijcountry', 'ransom', 'ransomamt', 'ransomamtus', 'ransompaid', 'ransompaidus', 'ransomnote', 'hostkidoutcome', 'hostkidoutcome_txt', 'nreleased', 'addnotes', 'scite1', 'scite2', 'scite3', 'dbsource', 'INT_LOG', 'INT_IDEO', 'INT_MISC', 'INT_ANY', 'related']\n"
     ]
    }
   ],
   "source": [
    "print(data_one.columns.tolist())"
   ]
  },
  {
   "cell_type": "code",
   "execution_count": 2,
   "id": "01b320bb-63d7-474d-89e7-d66f9d53f1a4",
   "metadata": {
    "tags": []
   },
   "outputs": [],
   "source": [
    "import csv"
   ]
  },
  {
   "cell_type": "code",
   "execution_count": 3,
   "id": "8694a4e1-79b1-4d2b-9d5f-5a4cede201cc",
   "metadata": {},
   "outputs": [],
   "source": []
  },
  {
   "cell_type": "code",
   "execution_count": 4,
   "id": "01984057-829a-4083-b742-a734cace04f4",
   "metadata": {
    "tags": []
   },
   "outputs": [
    {
     "name": "stdout",
     "output_type": "stream",
     "text": [
      "['eventid', 'iyear', 'imonth', 'iday', 'approxdate', 'extended', 'resolution', 'country', 'country_txt', 'region', 'region_txt', 'provstate', 'city', 'latitude', 'longitude', 'specificity', 'vicinity', 'location', 'summary', 'crit1', 'crit2', 'crit3', 'doubtterr', 'alternative', 'alternative_txt', 'multiple', 'success', 'suicide', 'attacktype1', 'attacktype1_txt', 'attacktype2', 'attacktype2_txt', 'attacktype3', 'attacktype3_txt', 'targtype1', 'targtype1_txt', 'targsubtype1', 'targsubtype1_txt', 'corp1', 'target1', 'natlty1', 'natlty1_txt', 'targtype2', 'targtype2_txt', 'targsubtype2', 'targsubtype2_txt', 'corp2', 'target2', 'natlty2', 'natlty2_txt', 'targtype3', 'targtype3_txt', 'targsubtype3', 'targsubtype3_txt', 'corp3', 'target3', 'natlty3', 'natlty3_txt', 'gname', 'gsubname', 'gname2', 'gsubname2', 'gname3', 'gsubname3', 'motive', 'guncertain1', 'guncertain2', 'guncertain3', 'individual', 'nperps', 'nperpcap', 'claimed', 'claimmode', 'claimmode_txt', 'claim2', 'claimmode2', 'claimmode2_txt', 'claim3', 'claimmode3', 'claimmode3_txt', 'compclaim', 'weaptype1', 'weaptype1_txt', 'weapsubtype1', 'weapsubtype1_txt', 'weaptype2', 'weaptype2_txt', 'weapsubtype2', 'weapsubtype2_txt', 'weaptype3', 'weaptype3_txt', 'weapsubtype3', 'weapsubtype3_txt', 'weaptype4', 'weaptype4_txt', 'weapsubtype4', 'weapsubtype4_txt', 'weapdetail', 'nkill', 'nkillus', 'nkillter', 'nwound', 'nwoundus', 'nwoundte', 'property', 'propextent', 'propextent_txt', 'propvalue', 'propcomment', 'ishostkid', 'nhostkid', 'nhostkidus', 'nhours', 'ndays', 'divert', 'kidhijcountry', 'ransom', 'ransomamt', 'ransomamtus', 'ransompaid', 'ransompaidus', 'ransomnote', 'hostkidoutcome', 'hostkidoutcome_txt', 'nreleased', 'addnotes', 'scite1', 'scite2', 'scite3', 'dbsource', 'INT_LOG', 'INT_IDEO', 'INT_MISC', 'INT_ANY', 'related']\n",
      "135\n"
     ]
    }
   ],
   "source": [
    "print(data_read[0])\n",
    "print(len(data_read[0]))"
   ]
  },
  {
   "cell_type": "code",
   "execution_count": 5,
   "id": "38a1e425-42bd-4c08-b6c6-309d2101ed08",
   "metadata": {
    "tags": []
   },
   "outputs": [],
   "source": [
    "sql = \"CREATE TABLE all_info (idSource INTEGER PRIMARY KEY AUTOINCREMENT, \""
   ]
  },
  {
   "cell_type": "code",
   "execution_count": 36,
   "id": "8c7ecab2-65b6-4863-8614-33f9f21e53ae",
   "metadata": {
    "tags": []
   },
   "outputs": [],
   "source": [
    "first_servis = [(k + ' text, ') for k in  data_read[0]]\n",
    "str_1 = ''.join(first_servis)\n",
    "sql =  sql + str_1[:-2] + ');'"
   ]
  },
  {
   "cell_type": "code",
   "execution_count": 37,
   "id": "15cbc355-ec2f-4291-9217-701044edcadc",
   "metadata": {
    "tags": []
   },
   "outputs": [
    {
     "name": "stdout",
     "output_type": "stream",
     "text": [
      "CREATE TABLE all_info (idSource INTEGER PRIMARY KEY AUTOINCREMENT, eventid text, iyear text, imonth text, iday text, approxdate text, extended text, resolution text, country text, country_txt text, region text, region_txt text, provstate text, city text, latitude text, longitude text, specificity text, vicinity text, location text, summary text, crit1 text, crit2 text, crit3 text, doubtterr text, alternative text, alternative_txt text, multiple text, success text, suicide text, attacktype1 text, attacktype1_txt text, attacktype2 text, attacktype2_txt text, attacktype3 text, attacktype3_txt text, targtype1 text, targtype1_txt text, targsubtype1 text, targsubtype1_txt text, corp1 text, target1 text, natlty1 text, natlty1_txt text, targtype2 text, targtype2_txt text, targsubtype2 text, targsubtype2_txt text, corp2 text, target2 text, natlty2 text, natlty2_txt text, targtype3 text, targtype3_txt text, targsubtype3 text, targsubtype3_txt text, corp3 text, target3 text, natlty3 text, natlty3_txt text, gname text, gsubname text, gname2 text, gsubname2 text, gname3 text, gsubname3 text, motive text, guncertain1 text, guncertain2 text, guncertain3 text, individual text, nperps text, nperpcap text, claimed text, claimmode text, claimmode_txt text, claim2 text, claimmode2 text, claimmode2_txt text, claim3 text, claimmode3 text, claimmode3_txt text, compclaim text, weaptype1 text, weaptype1_txt text, weapsubtype1 text, weapsubtype1_txt text, weaptype2 text, weaptype2_txt text, weapsubtype2 text, weapsubtype2_txt text, weaptype3 text, weaptype3_txt text, weapsubtype3 text, weapsubtype3_txt text, weaptype4 text, weaptype4_txt text, weapsubtype4 text, weapsubtype4_txt text, weapdetail text, nkill text, nkillus text, nkillter text, nwound text, nwoundus text, nwoundte text, property text, propextent text, propextent_txt text, propvalue text, propcomment text, ishostkid text, nhostkid text, nhostkidus text, nhours text, ndays text, divert text, kidhijcountry text, ransom text, ransomamt text, ransomamtus text, ransompaid text, ransompaidus text, ransomnote text, hostkidoutcome text, hostkidoutcome_txt text, nreleased text, addnotes text, scite1 text, scite2 text, scite3 text, dbsource text, INT_LOG text, INT_IDEO text, INT_MISC text, INT_ANY text, related text);\n"
     ]
    }
   ],
   "source": [
    "print(sql)"
   ]
  },
  {
   "cell_type": "code",
   "execution_count": 38,
   "id": "cb3edeb7-fe85-4c2e-94bc-70aae0faf002",
   "metadata": {
    "tags": []
   },
   "outputs": [],
   "source": [
    "cur.execute(sql)\n",
    "con.commit()"
   ]
  },
  {
   "cell_type": "code",
   "execution_count": 6,
   "id": "ea3f2337-be50-44fa-89b2-fbd3c887bc59",
   "metadata": {
    "tags": []
   },
   "outputs": [
    {
     "name": "stdout",
     "output_type": "stream",
     "text": [
      "name 'cur' is not defined\n",
      "1\n",
      "INSERT INTO all_info (eventid, iyear, imonth, iday, approxdate, extended, resolution, country, country_txt, region, region_txt, provstate, city, latitude, longitude, specificity, vicinity, location, summary, crit1, crit2, crit3, doubtterr, alternative, alternative_txt, multiple, success, suicide, attacktype1, attacktype1_txt, attacktype2, attacktype2_txt, attacktype3, attacktype3_txt, targtype1, targtype1_txt, targsubtype1, targsubtype1_txt, corp1, target1, natlty1, natlty1_txt, targtype2, targtype2_txt, targsubtype2, targsubtype2_txt, corp2, target2, natlty2, natlty2_txt, targtype3, targtype3_txt, targsubtype3, targsubtype3_txt, corp3, target3, natlty3, natlty3_txt, gname, gsubname, gname2, gsubname2, gname3, gsubname3, motive, guncertain1, guncertain2, guncertain3, individual, nperps, nperpcap, claimed, claimmode, claimmode_txt, claim2, claimmode2, claimmode2_txt, claim3, claimmode3, claimmode3_txt, compclaim, weaptype1, weaptype1_txt, weapsubtype1, weapsubtype1_txt, weaptype2, weaptype2_txt, weapsubtype2, weapsubtype2_txt, weaptype3, weaptype3_txt, weapsubtype3, weapsubtype3_txt, weaptype4, weaptype4_txt, weapsubtype4, weapsubtype4_txt, weapdetail, nkill, nkillus, nkillter, nwound, nwoundus, nwoundte, property, propextent, propextent_txt, propvalue, propcomment, ishostkid, nhostkid, nhostkidus, nhours, ndays, divert, kidhijcountry, ransom, ransomamt, ransomamtus, ransompaid, ransompaidus, ransomnote, hostkidoutcome, hostkidoutcome_txt, nreleased, addnotes, scite1, scite2, scite3, dbsource, INT_LOG, INT_IDEO, INT_MISC, INT_ANY, related) VALUES (\"197000000001\", \"1970\", \"7\", \"2\", \"\", \"0\", \"\", \"58\", \"Dominican Republic\", \"2\", \"Central America & Caribbean\", \"\", \"Santo Domingo\", \"18.456792\", \"-69.951164\", \"1\", \"0\", \"\", \"\", \"1\", \"1\", \"1\", \"0\", \"\", \"\", \"0\", \"1\", \"0\", \"1\", \"Assassination\", \"\", \"\", \"\", \"\", \"14\", \"Private Citizens & Property\", \"68\", \"Named Civilian\", \"\", \"Julio Guzman\", \"58\", \"Dominican Republic\", \"\", \"\", \"\", \"\", \"\", \"\", \"\", \"\", \"\", \"\", \"\", \"\", \"\", \"\", \"\", \"\", \"MANO-D\", \"\", \"\", \"\", \"\", \"\", \"\", \"0\", \"\", \"\", \"0\", \"\", \"\", \"\", \"\", \"\", \"\", \"\", \"\", \"\", \"\", \"\", \"\", \"13\", \"Unknown\", \"\", \"\", \"\", \"\", \"\", \"\", \"\", \"\", \"\", \"\", \"\", \"\", \"\", \"\", \"\", \"1\", \"\", \"\", \"0\", \"\", \"\", \"0\", \"\", \"\", \"\", \"\", \"0\", \"\", \"\", \"\", \"\", \"\", \"\", \"0\", \"\", \"\", \"\", \"\", \"\", \"\", \"\", \"\", \"\", \"\", \"\", \"\", \"PGIS\", \"0\", \"0\", \"0\", \"0\", \"\") ;\n"
     ]
    }
   ],
   "source": [
    "second_servis = [(k + ', ') for k in  data_read[0]]\n",
    "str_1 = ''.join(second_servis)\n",
    "sql2 = \"INSERT INTO all_info (\" + str_1[:-2] + ') VALUES '\n",
    "sum_str = ''\n",
    "ll = 0\n",
    "for k in  data_read[1:]:\n",
    "    ll +=1\n",
    "    new_str = sql2\n",
    "    str_serv = '(\"'\n",
    "    try:\n",
    "        for n in k:\n",
    "            n = str(n).replace('\"',' ')\n",
    "            str_serv += (str(n) + '\", \"')\n",
    "        str_serv = str_serv[:-4] + '\") '\n",
    "        #sum_str += str_serv\n",
    "        new_str = new_str + str_serv + ';'\n",
    "        cur.execute(new_str)\n",
    "        con.commit()\n",
    "    except Exception as inst :\n",
    "        print(inst)\n",
    "        print(ll)\n",
    "        print(new_str)\n",
    "        break        "
   ]
  },
  {
   "cell_type": "code",
   "execution_count": 68,
   "id": "5a1ea5ad-56f7-4ca1-b4dd-59721d97d934",
   "metadata": {
    "tags": []
   },
   "outputs": [],
   "source": [
    "#print(sql2)"
   ]
  },
  {
   "cell_type": "code",
   "execution_count": 61,
   "id": "cfd55e2f-b721-4d0d-b787-dd802e1ed09f",
   "metadata": {
    "tags": []
   },
   "outputs": [
    {
     "ename": "OperationalError",
     "evalue": "near \"Police\": syntax error",
     "output_type": "error",
     "traceback": [
      "\u001b[0;31m---------------------------------------------------------------------------\u001b[0m",
      "\u001b[0;31mOperationalError\u001b[0m                          Traceback (most recent call last)",
      "Cell \u001b[0;32mIn[61], line 1\u001b[0m\n\u001b[0;32m----> 1\u001b[0m \u001b[43mcur\u001b[49m\u001b[38;5;241;43m.\u001b[39;49m\u001b[43mexecute\u001b[49m\u001b[43m(\u001b[49m\u001b[43msql2\u001b[49m\u001b[43m)\u001b[49m\n\u001b[1;32m      2\u001b[0m con\u001b[38;5;241m.\u001b[39mcommit()\n",
      "\u001b[0;31mOperationalError\u001b[0m: near \"Police\": syntax error"
     ]
    }
   ],
   "source": [
    "cur.execute(sql2)\n",
    "con.commit()"
   ]
  },
  {
   "cell_type": "code",
   "execution_count": 6,
   "id": "7bf02658",
   "metadata": {},
   "outputs": [],
   "source": [
    "# Read CSV file\n",
    "import csv\n",
    "with open('data_sets/globalterrorismdb_0718dist.csv', encoding='latin1') as fp:\n",
    "    reader = csv.reader(fp, delimiter=\",\")#, quotechar='\"')\n",
    "    # next(reader, None)  # skip the headers\n",
    "    data_read = [row for row in reader]"
   ]
  },
  {
   "cell_type": "code",
   "execution_count": 7,
   "id": "d700bdce-18b2-45ec-a1d2-4ca22b713ad6",
   "metadata": {},
   "outputs": [],
   "source": [
    "import config_metads_increasingSpeedSql as config\n",
    "import psycopg2\n",
    "KERBEROSS = {'host': config.host,\n",
    "             'port': config.port,\n",
    "             'user': config.user,\n",
    "             'password': config.passwd,\n",
    "             'database': config.dbase}"
   ]
  },
  {
   "cell_type": "code",
   "execution_count": 3,
   "id": "d6856d02",
   "metadata": {},
   "outputs": [],
   "source": [
    "conn = psycopg2.connect(**KERBEROSS)\n",
    "cur  = conn.cursor()"
   ]
  },
  {
   "cell_type": "code",
   "execution_count": 18,
   "id": "7a850c39",
   "metadata": {},
   "outputs": [],
   "source": [
    "# sql = \"CREATE TABLE public.all_info (idSource SERIAL PRIMARY KEY, \"\n",
    "# first_servis = [(k + ' TEXT, ') for k in  data_read[0]]\n",
    "# str_1 = ''.join(first_servis)\n",
    "# sql =  sql + str_1[:-2] + ');'\n",
    "# sql"
   ]
  },
  {
   "cell_type": "code",
   "execution_count": 4,
   "id": "9fb1006d",
   "metadata": {},
   "outputs": [],
   "source": [
    "cur.execute(\"ROLLBACK\")\n",
    "conn.commit()"
   ]
  },
  {
   "cell_type": "code",
   "execution_count": 8,
   "id": "9c2c1017",
   "metadata": {},
   "outputs": [],
   "source": [
    "second_servis = [(k + ', ') for k in  data_read[0]]\n",
    "str_1 = ''.join(second_servis)\n",
    "sql2 = \"INSERT INTO public.all_info \" +\\\n",
    "\"(idsource, eventid, iyear, \" +\\\n",
    "\"imonth, iday, approxdate, extended, resolution, country, country_txt, \" +\\\n",
    "\"region, region_txt, provstate, city, latitude, longitude, specificity, \" +\\\n",
    "\"vicinity, location, summary, crit1, crit2, crit3, doubtterr, alternative, \" +\\\n",
    "\"alternative_txt, multiple, success, suicide, attacktype1, attacktype1_txt, \" +\\\n",
    "\"attacktype2, attacktype2_txt, attacktype3, attacktype3_txt, targtype1, \" +\\\n",
    "\"targtype1_txt, targsubtype1, targsubtype1_txt, corp1, target1, natlty1, \" +\\\n",
    "\"natlty1_txt, targtype2, targtype2_txt, targsubtype2, targsubtype2_txt, \" +\\\n",
    "\"corp2, target2, natlty2, natlty2_txt, targtype3, targtype3_txt, targsubtype3, \" +\\\n",
    "\"targsubtype3_txt, corp3, target3, natlty3, natlty3_txt, gname, gsubname, gname2, \" +\\\n",
    "\"gsubname2, gname3, gsubname3, motive, guncertain1, guncertain2, guncertain3, \" +\\\n",
    "\"individual, nperps, nperpcap, claimed, claimmode, claimmode_txt, claim2, \" +\\\n",
    "\"claimmode2, claimmode2_txt, claim3, claimmode3, claimmode3_txt, compclaim, \" +\\\n",
    "\"weaptype1, weaptype1_txt, weapsubtype1, weapsubtype1_txt, weaptype2, weaptype2_txt, \" +\\\n",
    "\"weapsubtype2, weapsubtype2_txt, weaptype3, weaptype3_txt, weapsubtype3, weapsubtype3_txt, \" +\\\n",
    "\"weaptype4, weaptype4_txt, weapsubtype4, weapsubtype4_txt, weapdetail, nkill, \" +\\\n",
    "\"nkillus, nkillter, nwound, nwoundus, nwoundte, property, propextent, propextent_txt, \" +\\\n",
    "\"propvalue, propcomment, ishostkid, nhostkid, nhostkidus, nhours, ndays, divert, \" +\\\n",
    "\"kidhijcountry, ransom, ransomamt, ransomamtus, ransompaid, ransompaidus, ransomnote, \" +\\\n",
    "\"hostkidoutcome, hostkidoutcome_txt, nreleased, addnotes, scite1, scite2, scite3, \" +\\\n",
    "\"dbsource, int_log, int_ideo, int_misc, int_any, related) \" +\\\n",
    "\"VALUES(nextval('all_info_idsource_seq'::regclass)\"\n",
    "sum_str = ''\n",
    "ll = 0\n",
    "for k in  data_read[1:]:\n",
    "    ll +=1\n",
    "    new_str = sql2\n",
    "    str_serv = \",'\"\n",
    "    try:\n",
    "        k_v = 0\n",
    "        for n in k:\n",
    "            n = str(n).replace('\"',' ')\n",
    "            n = n.replace(\"'\",' ')\n",
    "            k_v  += 1\n",
    "            if len(n) == 0:\n",
    "                str_serv += (\"', '\")\n",
    "            else:\n",
    "                str_serv += (str(n) + \"', '\")\n",
    "        str_serv = str_serv[:-4] + \"')\"\n",
    "        #sum_str += str_serv\n",
    "        new_str = new_str + str_serv + ';'\n",
    "        # print(new_str)\n",
    "        #print(k_v)\n",
    "        cur.execute(new_str)\n",
    "        conn.commit()\n",
    "    except Exception as inst :\n",
    "        print(inst)\n",
    "        print(ll)\n",
    "        print(new_str)\n",
    "        break        "
   ]
  }
 ],
 "metadata": {
  "kernelspec": {
   "display_name": "Python 3 (ipykernel)",
   "language": "python",
   "name": "python3"
  },
  "language_info": {
   "codemirror_mode": {
    "name": "ipython",
    "version": 3
   },
   "file_extension": ".py",
   "mimetype": "text/x-python",
   "name": "python",
   "nbconvert_exporter": "python",
   "pygments_lexer": "ipython3",
   "version": "3.10.12"
  }
 },
 "nbformat": 4,
 "nbformat_minor": 5
}
