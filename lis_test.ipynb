{
 "cells": [
  {
   "cell_type": "code",
   "execution_count": 1,
   "id": "bab5463c-6b30-48a1-bd43-87eeb4616b41",
   "metadata": {
    "tags": []
   },
   "outputs": [],
   "source": [
    "import sqlite3"
   ]
  },
  {
   "cell_type": "code",
   "execution_count": 2,
   "id": "a5e76a45-9da4-4a3e-a639-939ce1b45579",
   "metadata": {
    "tags": []
   },
   "outputs": [],
   "source": [
    "import time"
   ]
  },
  {
   "cell_type": "code",
   "execution_count": 3,
   "id": "0a5b6860-baf2-4ca6-8cf0-daa4d698ba77",
   "metadata": {
    "tags": []
   },
   "outputs": [],
   "source": [
    "con = sqlite3.connect('data_sets/exampl_data_base.db')"
   ]
  },
  {
   "cell_type": "code",
   "execution_count": 4,
   "id": "96deb40e-67ef-40b6-8d9f-2c9182b8042e",
   "metadata": {
    "tags": []
   },
   "outputs": [],
   "source": [
    "cur = con.cursor()"
   ]
  },
  {
   "cell_type": "code",
   "execution_count": 5,
   "id": "83313694-1183-4461-b3e8-43568c89351a",
   "metadata": {
    "tags": []
   },
   "outputs": [],
   "source": [
    "sql_01 = 'select * from all_info;'"
   ]
  },
  {
   "cell_type": "code",
   "execution_count": 6,
   "id": "4ae3bfd3-f283-4ca6-b188-46dd4a405bb5",
   "metadata": {
    "tags": []
   },
   "outputs": [
    {
     "name": "stdout",
     "output_type": "stream",
     "text": [
      "0.0011434555053710938\n"
     ]
    }
   ],
   "source": [
    "start = time.time()\n",
    "res = cur.execute(sql_01)\n",
    "print(time.time() - start)"
   ]
  },
  {
   "cell_type": "code",
   "execution_count": 7,
   "id": "3693ff2b-24c0-4df5-ae94-079e752a2301",
   "metadata": {
    "tags": []
   },
   "outputs": [],
   "source": [
    "sql_02 = 'select cod_country from all_info;'"
   ]
  },
  {
   "cell_type": "code",
   "execution_count": 10,
   "id": "bc3980dc-e6bf-46ca-91c4-78d8b22dbaaf",
   "metadata": {
    "tags": []
   },
   "outputs": [
    {
     "name": "stdout",
     "output_type": "stream",
     "text": [
      "0.0003769397735595703\n"
     ]
    }
   ],
   "source": [
    "start = time.time()\n",
    "res = cur.execute(sql_02)\n",
    "print(time.time() - start)"
   ]
  },
  {
   "cell_type": "code",
   "execution_count": 11,
   "id": "c5f566c8-95eb-4559-94fa-b3158d795af2",
   "metadata": {
    "tags": []
   },
   "outputs": [
    {
     "name": "stdout",
     "output_type": "stream",
     "text": [
      "0.0002167224884033203\n"
     ]
    }
   ],
   "source": [
    "start = time.time()\n",
    "res = cur.execute(sql_02)\n",
    "print(time.time() - start)"
   ]
  },
  {
   "cell_type": "markdown",
   "id": "c5f7beb7-6578-48ed-ac32-f31e66e0e451",
   "metadata": {},
   "source": [
    "### 2.Избегайте включения оператора HAVING в  SELECT"
   ]
  },
  {
   "cell_type": "code",
   "execution_count": 12,
   "id": "0ceeaa5d-a8d5-484c-a906-ff836058634f",
   "metadata": {
    "tags": []
   },
   "outputs": [],
   "source": [
    "sql_03 = \"\"\"SELECT cod_country, count(city) FROM all_info \n",
    "WHERE cod_country = '217'\n",
    "GROUP BY cod_country;\"\"\""
   ]
  },
  {
   "cell_type": "code",
   "execution_count": 19,
   "id": "963e4604-a2a6-4b7f-9b38-b1047951b713",
   "metadata": {
    "tags": []
   },
   "outputs": [
    {
     "name": "stdout",
     "output_type": "stream",
     "text": [
      "0.04892992973327637\n"
     ]
    }
   ],
   "source": [
    "start = time.time()\n",
    "res = cur.execute(sql_03)\n",
    "print(time.time() - start)"
   ]
  },
  {
   "cell_type": "code",
   "execution_count": 20,
   "id": "9dc38259-d751-44fb-b20a-dd66376a0e20",
   "metadata": {
    "tags": []
   },
   "outputs": [],
   "source": [
    "sql_04 = \"\"\"SELECT cod_country, count(city) FROM all_info \n",
    "GROUP BY cod_country\n",
    "HAVING cod_country = '217'\n",
    "\"\"\""
   ]
  },
  {
   "cell_type": "code",
   "execution_count": 21,
   "id": "6850bc8f-10ef-4432-bccc-36620e51ea01",
   "metadata": {
    "tags": []
   },
   "outputs": [
    {
     "name": "stdout",
     "output_type": "stream",
     "text": [
      "0.04917716979980469\n"
     ]
    }
   ],
   "source": [
    "start = time.time()\n",
    "res = cur.execute(sql_04)\n",
    "print(time.time() - start)"
   ]
  },
  {
   "cell_type": "code",
   "execution_count": null,
   "id": "790addc5-e9a6-4720-abf0-fe21dd0721af",
   "metadata": {},
   "outputs": [],
   "source": []
  }
 ],
 "metadata": {
  "kernelspec": {
   "display_name": "Python 3 (ipykernel)",
   "language": "python",
   "name": "python3"
  },
  "language_info": {
   "codemirror_mode": {
    "name": "ipython",
    "version": 3
   },
   "file_extension": ".py",
   "mimetype": "text/x-python",
   "name": "python",
   "nbconvert_exporter": "python",
   "pygments_lexer": "ipython3",
   "version": "3.10.6"
  }
 },
 "nbformat": 4,
 "nbformat_minor": 5
}
